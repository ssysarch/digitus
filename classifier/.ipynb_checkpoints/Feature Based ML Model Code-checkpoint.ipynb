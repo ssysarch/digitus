{
 "cells": [
  {
   "cell_type": "markdown",
   "id": "2a09b467",
   "metadata": {},
   "source": [
    "# Feature Based Fingerprinting\n",
    "In this notebook, we utilize a Random Forest Classifier to classify our devices utilizing the features we have extracted.\n",
    "\n",
    "In this example, we test the baseline test (3x Arduino Unos, 3x STM 32's, 1m distance, 5 different samples of data across different times/days). This notebook reports the test accuracy and other metrics for the baseline test"
   ]
  },
  {
   "cell_type": "code",
   "execution_count": null,
   "id": "576acb3d",
   "metadata": {},
   "outputs": [],
   "source": [
    "import matplotlib.pyplot as plt\n",
    "import numpy as np\n",
    "import pandas as pd\n",
    "import seaborn as sns\n",
    "import matplotlib\n",
    "import csv\n",
    "from sklearn.metrics import confusion_matrix\n",
    "\n",
    "sns.set()"
   ]
  },
  {
   "cell_type": "markdown",
   "id": "72e3e736",
   "metadata": {},
   "source": [
    "## Step 1: Create Dataframe"
   ]
  },
  {
   "cell_type": "code",
   "execution_count": null,
   "id": "50000203",
   "metadata": {},
   "outputs": [],
   "source": [
    "# Each row is a sample, and each column is a feature. One of the columns is the target output.\n",
    "\n",
    "# Baseline Test Data\n",
    "samples1 = pd.read_csv('day1.csv')\n",
    "samples2 = pd.read_csv('day2.csv')\n",
    "samples3 = pd.read_csv('morning.csv')\n",
    "samples4 = pd.read_csv('noon.csv')\n",
    "samples5 = pd.read_csv('afternoon.csv')\n",
    "frames = [samples1, samples2, samples3, samples4, samples5]\n",
    "samples = pd.concat(frames)\n",
    "samples"
   ]
  },
  {
   "cell_type": "markdown",
   "id": "abaf5b53",
   "metadata": {},
   "source": [
    "## Step 2a: Decision Tree Model"
   ]
  },
  {
   "cell_type": "code",
   "execution_count": null,
   "id": "b0440eb7",
   "metadata": {},
   "outputs": [],
   "source": [
    "from sklearn.model_selection import train_test_split\n",
    "\n",
    "# For all data together\n",
    "train_data, validation_data = train_test_split(samples, test_size=0.3, random_state=5)\n",
    "validation_data, test_data = train_test_split(validation_data, test_size=0.50, random_state=5)"
   ]
  },
  {
   "cell_type": "code",
   "execution_count": null,
   "id": "00ba9df4",
   "metadata": {},
   "outputs": [],
   "source": [
    "# If value is NaN, replace with zero\n",
    "for i in range(0, len(train_data)):\n",
    "    if (np.isnan(train_data['freq_MHz_2'].iloc[i])):\n",
    "        train_data['freq_MHz_2'].iloc[i] = 0\n",
    "    if (np.isnan(train_data['strDiff_dB_2'].iloc[i])):\n",
    "        train_data['strDiff_dB_2'].iloc[i] = 0\n",
    "    if (np.isnan(train_data['relStr_dB_2'].iloc[i])):\n",
    "        train_data['relStr_dB_2'].iloc[i] = 0\n",
    "    if (np.isnan(train_data['relDist_Hz_2'].iloc[i])):\n",
    "        train_data['relDist_Hz_2'].iloc[i] = 0\n",
    "    if (np.isnan(train_data['width_Hz_2'].iloc[i])):\n",
    "        train_data['width_Hz_2'].iloc[i] = 0\n",
    "    if (np.isnan(train_data['autoCorrelation_lag-2'].iloc[i])):\n",
    "        train_data['autoCorrelation_lag-2'].iloc[i] = 0\n",
    "    if (np.isnan(train_data['autoCorrelation_lag-2_2'].iloc[i])):\n",
    "        train_data['autoCorrelation_lag-2_2'].iloc[i] = 0\n",
    "    if (np.isnan(train_data['alpha'].iloc[i])):\n",
    "        train_data['alhpa'].iloc[i] = 0\n",
    "    if (np.isnan(train_data['alpha_2'].iloc[i])):\n",
    "        train_data['alhpa_2'].iloc[i] = 0\n",
    "\n",
    "for i in range(0, len(validation_data)):\n",
    "    if (np.isnan(validation_data['freq_MHz_2'].iloc[i])):\n",
    "        validation_data['freq_MHz_2'].iloc[i] = 0\n",
    "    if (np.isnan(validation_data['strDiff_dB_2'].iloc[i])):\n",
    "        validation_data['strDiff_dB_2'].iloc[i] = 0\n",
    "    if (np.isnan(validation_data['relStr_dB_2'].iloc[i])):\n",
    "        validation_data['relStr_dB_2'].iloc[i] = 0\n",
    "    if (np.isnan(validation_data['relDist_Hz_2'].iloc[i])):\n",
    "        validation_data['relDist_Hz_2'].iloc[i] = 0\n",
    "    if (np.isnan(validation_data['width_Hz_2'].iloc[i])):\n",
    "        validation_data['width_Hz_2'].iloc[i] = 0\n",
    "    if (np.isnan(validation_data['autoCorrelation_lag-2'].iloc[i])):\n",
    "        validation_data['autoCorrelation_lag-2'].iloc[i] = 0\n",
    "    if (np.isnan(validation_data['autoCorrelation_lag-2_2'].iloc[i])):\n",
    "        validation_data['autoCorrelation_lag-2_2'].iloc[i] = 0\n",
    "    if (np.isnan(validation_data['alpha'].iloc[i])):\n",
    "        validation_data['alhpa'].iloc[i] = 0\n",
    "    if (np.isnan(validation_data['alpha_2'].iloc[i])):\n",
    "        validation_data['alhpa_2'].iloc[i] = 0\n",
    "\n",
    "for i in range(0, len(test_data)):\n",
    "    if (np.isnan(test_data['freq_MHz_2'].iloc[i])):\n",
    "        test_data['freq_MHz_2'].iloc[i] = 0\n",
    "    if (np.isnan(test_data['strDiff_dB_2'].iloc[i])):\n",
    "        test_data['strDiff_dB_2'].iloc[i] = 0\n",
    "    if (np.isnan(test_data['relStr_dB_2'].iloc[i])):\n",
    "        test_data['relStr_dB_2'].iloc[i] = 0\n",
    "    if (np.isnan(test_data['relDist_Hz_2'].iloc[i])):\n",
    "        test_data['relDist_Hz_2'].iloc[i] = 0\n",
    "    if (np.isnan(test_data['width_Hz_2'].iloc[i])):\n",
    "        test_data['width_Hz_2'].iloc[i] = 0\n",
    "    if (np.isnan(test_data['autoCorrelation_lag-2'].iloc[i])):\n",
    "        test_data['autoCorrelation_lag-2'].iloc[i] = 0\n",
    "    if (np.isnan(test_data['autoCorrelation_lag-2_2'].iloc[i])):\n",
    "        test_data['autoCorrelation_lag-2_2'].iloc[i] = 0\n",
    "    if (np.isnan(test_data['alpha'].iloc[i])):\n",
    "        test_data['alhpa'].iloc[i] = 0\n",
    "    if (np.isnan(test_data['alpha_2'].iloc[i])):\n",
    "        test_data['alhpa_2'].iloc[i] = 0"
   ]
  },
  {
   "cell_type": "code",
   "execution_count": null,
   "id": "27fb0b97",
   "metadata": {},
   "outputs": [],
   "source": [
    "# Features we need, as well as target\n",
    "features = [\n",
    "    'freq_MHz',               # raw frequency of clock in first band\n",
    "    'freq_MHz_2',             # raw frequency of clock in second band\n",
    "    'width_Hz',               # width of clock in first band\n",
    "    'width_Hz_2',             # Width of clock in second band\n",
    "    'autoCorrelation_lag-2',  # autocorrelation of first band\n",
    "    'autoCorrelation_lag-2_2',# autocorrelation of second band\n",
    "    'strDiff_dB_2',           # frequency snr ratio relationship between clocks\n",
    "    'alpha',                  # cyclic frequency of band 1\n",
    "    'alpha_2',                # cyclic frequency of band 2\n",
    "    'relDist_Hz_2'            # frequency difference between clock harmonics\n",
    "]\n",
    "\n",
    "target = 'Device'          # which device is this? (can be either between devices, or within devices)    "
   ]
  },
  {
   "cell_type": "code",
   "execution_count": null,
   "id": "8e6a1212",
   "metadata": {},
   "outputs": [],
   "source": [
    "from sklearn.tree import DecisionTreeClassifier\n",
    "from sklearn.datasets import make_classification\n",
    "from sklearn.metrics import f1_score\n",
    "from sklearn.metrics import precision_score\n",
    "from sklearn.metrics import recall_score\n",
    "\n",
    "# Max Depth of tree\n",
    "max_depth = 15\n",
    "# Min samples required to be at leaf node\n",
    "min_samples_leaf = 1\n",
    "decision_tree_model = DecisionTreeClassifier(max_depth=max_depth, min_samples_leaf=min_samples_leaf, random_state=6)\n",
    "decision_tree_model.fit(train_data[features], train_data[target])"
   ]
  },
  {
   "cell_type": "code",
   "execution_count": null,
   "id": "9e0c6e9c",
   "metadata": {},
   "outputs": [],
   "source": [
    "import graphviz\n",
    "from sklearn import tree\n",
    "\n",
    "# Visualize the tree\n",
    "def draw_tree(tree_model, features):\n",
    "    \"\"\"\n",
    "    visualizes a Decision Tree\n",
    "    \"\"\"\n",
    "    tree_data = tree.export_graphviz(tree_model, \n",
    "                                    impurity=False, \n",
    "                                    feature_names=features,\n",
    "                                    class_names=tree_model.classes_.astype(str),\n",
    "                                    filled=True,\n",
    "                                    out_file=None)\n",
    "    graph = graphviz.Source(tree_data) \n",
    "    display(graph)\n",
    "    \n",
    "draw_tree(decision_tree_model, features)"
   ]
  },
  {
   "cell_type": "markdown",
   "id": "407af987",
   "metadata": {},
   "source": [
    "## Step 2b: Decision Tree Train/Validation Accuracy"
   ]
  },
  {
   "cell_type": "code",
   "execution_count": null,
   "id": "90ff79c1",
   "metadata": {},
   "outputs": [],
   "source": [
    "# Training Accuracy\n",
    "y_pred_training = decision_tree_model.predict(train_data[features])\n",
    "y_true = list(train_data[target])\n",
    "correctNum = 0\n",
    "for i in range(0, len(y_true)):\n",
    "    if (y_pred_training[i] == y_true[i]):\n",
    "        correctNum = correctNum + 1\n",
    "decision_train_accuracy = correctNum / len(y_true)\n",
    "print(\"decision train accuracy: \", decision_train_accuracy)\n",
    "\n",
    "# Validation Accuracy\n",
    "y_pred_valid = decision_tree_model.predict(validation_data[features])\n",
    "y_true = list(validation_data[target])\n",
    "correctNum = 0\n",
    "for i in range(0, len(y_true)):\n",
    "    if (y_pred_valid[i] == y_true[i]):\n",
    "        correctNum = correctNum + 1\n",
    "decision_validation_accuracy = correctNum / len(y_true)\n",
    "print(\"decision validation accuracy: \", decision_validation_accuracy)"
   ]
  },
  {
   "cell_type": "code",
   "execution_count": null,
   "id": "f7a46177",
   "metadata": {},
   "outputs": [],
   "source": [
    "def plot_confusion_matrix(y_true, y_pred, fig_name, to_norm, large_scale, program_idle):\n",
    "    if to_norm == 1:\n",
    "        data = confusion_matrix(y_true, y_pred, normalize='true') * 100\n",
    "    else:\n",
    "        data = confusion_matrix(y_true, y_pred)\n",
    "    # figsize=(6, 6) control width and height\n",
    "    # dpi = 600, I \n",
    "    plt.figure(figsize=(6, 6), \n",
    "               dpi = 600) \n",
    "\n",
    "\n",
    "    if large_scale == 1:\n",
    "        # parameter annot_kws={\"size\": 8} control corr values font size\n",
    "        snsPlot = sns.heatmap(data, xticklabels=['ard1', 'ard2', 'ard3', 'ard4', 'ard5', 'ard6', 'ard7', 'ard8', 'ard9', 'ard10'], yticklabels=['ard1', 'ard2', 'ard3', 'ard4', 'ard5', 'ard6', 'ard7', 'ard8', 'ard9', 'ard10'], \n",
    "                              cmap=\"Blues\", annot=True, square=True, fmt='.0f', cbar=False, annot_kws={\"size\": 12})\n",
    "    elif program_idle == 1:\n",
    "        # parameter annot_kws={\"size\": 8} control corr values font size\n",
    "        snsPlot = sns.heatmap(data, xticklabels=['ard1I', 'ard1P', 'ard2I', 'ard2P', 'ard3I', 'ard3P', 'stm1I', 'stm1P', 'stm2I', 'stm2P', 'stm3I', 'stm3P'], yticklabels=['ard1I', 'ard1P', 'ard2I', 'ard2P', 'ard3I', 'ard3P', 'stm1I', 'stm1P', 'stm2I', 'stm2P', 'stm3I', 'stm3P'], \n",
    "                              cmap=\"Blues\", annot=True, square=True, fmt='.0f', cbar=False, annot_kws={\"size\": 12})\n",
    "    else:\n",
    "        # parameter annot_kws={\"size\": 8} control corr values font size\n",
    "        snsPlot = sns.heatmap(data, xticklabels=['ard1', 'ard2', 'ard3', 'stm1', 'stm2', 'stm3'], yticklabels=['ard1', 'ard2', 'ard3', 'stm1', 'stm2', 'stm3'], \n",
    "                              cmap=\"Blues\", annot=True, square=True, fmt='.0f', cbar=False, annot_kws={\"size\": 12})\n",
    "    plt.xlabel('Predicted')\n",
    "    plt.ylabel('Actual')\n",
    "    plt.xticks(rotation=0)\n",
    "    plt.yticks(rotation=0)\n",
    "    plt.tick_params(axis = 'x', labelsize = 10) # x font label size\n",
    "    plt.tick_params(axis = 'y', labelsize = 10) # y font label size\n",
    "    plt.savefig(fig_name) "
   ]
  },
  {
   "cell_type": "code",
   "execution_count": null,
   "id": "cb628e34",
   "metadata": {},
   "outputs": [],
   "source": [
    "to_norm = 0\n",
    "large_scale = 0\n",
    "program_idle = 0\n",
    "plot_confusion_matrix(y_true, y_pred_valid, 'dt_valid_matrix.jpg', to_norm, large_scale, program_idle)"
   ]
  },
  {
   "cell_type": "code",
   "execution_count": null,
   "id": "73a63316",
   "metadata": {},
   "outputs": [],
   "source": [
    "# Test Accuracy\n",
    "y_pred_test = decision_tree_model.predict(test_data[features])\n",
    "y_true = list(test_data[target])\n",
    "correctNum = 0\n",
    "for i in range(0, len(y_true)):\n",
    "    if (y_pred_test[i] == y_true[i]):\n",
    "        correctNum = correctNum + 1\n",
    "decision_test_accuracy = correctNum / len(y_true)\n",
    "print(\"decision test accuracy: \", decision_test_accuracy)\n",
    "precision = precision_score(y_true, y_pred_test, average='macro')\n",
    "print(\"precision: \", precision)\n",
    "recall = recall_score(y_true, y_pred_test, average='macro')\n",
    "print(\"recall: \", recall)\n",
    "f1= f1_score(y_true, y_pred_test, average='macro')\n",
    "print(\"f1 score: \", f1)"
   ]
  },
  {
   "cell_type": "code",
   "execution_count": null,
   "id": "9128868e",
   "metadata": {},
   "outputs": [],
   "source": [
    "to_norm = 0\n",
    "large_scale = 0\n",
    "program_idle = 0\n",
    "plot_confusion_matrix(y_true, y_pred_test, 'matrix_decision_tree_baseline.pdf', to_norm, large_scale, program_idle)"
   ]
  },
  {
   "cell_type": "markdown",
   "id": "3f9ee72b",
   "metadata": {},
   "source": [
    "## Step 2c: Decision Tree Parameter Tuning"
   ]
  },
  {
   "cell_type": "code",
   "execution_count": null,
   "id": "13efdffe",
   "metadata": {},
   "outputs": [],
   "source": [
    "# Grid Search\n",
    "from sklearn.model_selection import GridSearchCV\n",
    "hyperparameters = {'min_samples_leaf': [1, 10, 50, 100, 200, 300], 'max_depth':[1, 5, 10, 15, 20]}\n",
    "estimator = DecisionTreeClassifier()\n",
    "search = GridSearchCV(estimator=estimator, param_grid=hyperparameters, cv=6, return_train_score=True)\n",
    "search.fit(train_data[features], train_data[target])\n",
    "result = search.best_params_\n",
    "print(\"result: \", result)"
   ]
  },
  {
   "cell_type": "markdown",
   "id": "4903b761",
   "metadata": {},
   "source": [
    "## Step 3a: Random Forest Model"
   ]
  },
  {
   "cell_type": "code",
   "execution_count": null,
   "id": "ffa3bf07",
   "metadata": {},
   "outputs": [],
   "source": [
    "from sklearn.ensemble import RandomForestClassifier\n",
    "from sklearn.datasets import make_classification\n",
    "from sklearn.metrics import f1_score\n",
    "from sklearn.metrics import precision_score\n",
    "from sklearn.metrics import recall_score\n",
    "clf = RandomForestClassifier(max_depth=15, min_samples_leaf=1, random_state=6)\n",
    "clf.fit(train_data[features], train_data[target])"
   ]
  },
  {
   "cell_type": "markdown",
   "id": "b7a5a439",
   "metadata": {},
   "source": [
    "## Step 3b: Random Forest Train/Validation Accuracy"
   ]
  },
  {
   "cell_type": "code",
   "execution_count": null,
   "id": "25142d6f",
   "metadata": {},
   "outputs": [],
   "source": [
    "# Training Accuracy\n",
    "y_pred_training = clf.predict(train_data[features])\n",
    "y_true = list(train_data[target])\n",
    "correctNum = 0\n",
    "for i in range(0, len(y_true)):\n",
    "    if (y_pred_training[i] == y_true[i]):\n",
    "        correctNum = correctNum + 1\n",
    "decision_train_accuracy = correctNum / len(y_true)\n",
    "print(\"decision train accuracy: \", decision_train_accuracy)\n",
    "\n",
    "# Validation Accuracy\n",
    "y_pred_valid = clf.predict(validation_data[features])\n",
    "y_true = list(validation_data[target])\n",
    "correctNum = 0\n",
    "for i in range(0, len(y_true)):\n",
    "    if (y_pred_valid[i] == y_true[i]):\n",
    "        correctNum = correctNum + 1\n",
    "decision_validation_accuracy = correctNum / len(y_true)\n",
    "print(\"decision validation accuracy: \", decision_validation_accuracy)"
   ]
  },
  {
   "cell_type": "code",
   "execution_count": null,
   "id": "296e65f6",
   "metadata": {},
   "outputs": [],
   "source": [
    "# Test Accuracy\n",
    "y_pred_test = clf.predict(test_data[features])\n",
    "y_true = list(test_data[target])\n",
    "correctNum = 0\n",
    "for i in range(0, len(y_true)):\n",
    "    if (y_pred_test[i] == y_true[i]):\n",
    "        correctNum = correctNum + 1\n",
    "decision_test_accuracy = correctNum / len(y_true)\n",
    "print(\"decision test accuracy: \", decision_test_accuracy)\n",
    "precision = precision_score(y_true, y_pred_test, average='macro')\n",
    "print(\"precision: \", precision)\n",
    "recall = recall_score(y_true, y_pred_test, average='macro')\n",
    "print(\"recall: \", recall)\n",
    "f1= f1_score(y_true, y_pred_test, average='macro')\n",
    "print(\"f1 score: \", f1)"
   ]
  },
  {
   "cell_type": "code",
   "execution_count": null,
   "id": "8a5eced3",
   "metadata": {},
   "outputs": [],
   "source": [
    "to_norm = 0\n",
    "large_scale = 0\n",
    "program_idle = 0\n",
    "plot_confusion_matrix(y_true, y_pred_test, 'matrix_random_forest_baseline.pdf', to_norm, large_scale, program_idle)"
   ]
  },
  {
   "cell_type": "markdown",
   "id": "41d6bd49",
   "metadata": {},
   "source": [
    "#### "
   ]
  },
  {
   "cell_type": "code",
   "execution_count": null,
   "id": "28d30c78",
   "metadata": {},
   "outputs": [],
   "source": []
  }
 ],
 "metadata": {
  "kernelspec": {
   "display_name": "Python 3 (ipykernel)",
   "language": "python",
   "name": "python3"
  },
  "language_info": {
   "codemirror_mode": {
    "name": "ipython",
    "version": 3
   },
   "file_extension": ".py",
   "mimetype": "text/x-python",
   "name": "python",
   "nbconvert_exporter": "python",
   "pygments_lexer": "ipython3",
   "version": "3.8.10"
  }
 },
 "nbformat": 4,
 "nbformat_minor": 5
}
